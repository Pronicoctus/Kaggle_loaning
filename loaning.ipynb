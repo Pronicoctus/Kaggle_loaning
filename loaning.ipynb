{
 "cells": [
  {
   "cell_type": "code",
   "execution_count": 1,
   "id": "2c7e093c",
   "metadata": {
    "_cell_guid": "b1076dfc-b9ad-4769-8c92-a6c4dae69d19",
    "_uuid": "8f2839f25d086af736a60e9eeb907d3b93b6e0e5",
    "execution": {
     "iopub.execute_input": "2024-10-24T10:14:03.238206Z",
     "iopub.status.busy": "2024-10-24T10:14:03.237759Z",
     "iopub.status.idle": "2024-10-24T10:14:27.806768Z",
     "shell.execute_reply": "2024-10-24T10:14:27.805182Z"
    },
    "papermill": {
     "duration": 24.583429,
     "end_time": "2024-10-24T10:14:27.811120",
     "exception": false,
     "start_time": "2024-10-24T10:14:03.227691",
     "status": "completed"
    },
    "tags": []
   },
   "outputs": [],
   "source": [
    "import os\n",
    "import sys\n",
    "\n",
    "\n",
    "#Visualization\n",
    "from matplotlib import pyplot as plt\n",
    "from tqdm import tqdm\n",
    "\n",
    "#Generic\n",
    "import numpy as np\n",
    "import pandas as pd\n",
    "import polars as pl\n",
    "import time\n",
    "import scipy.stats as stats\n",
    "import scipy\n",
    "import math\n",
    "\n",
    "#Models\n",
    "from xgboost import XGBRegressor\n",
    "from sklearn.ensemble import RandomForestRegressor\n",
    "import lightgbm as lgb\n",
    "from catboost import CatBoostClassifier, Pool\n",
    "\n",
    "import tensorflow as tf\n",
    "from tensorflow import keras\n",
    "from tensorflow.keras import layers\n",
    "\n",
    "import torch\n",
    "from torch import nn, Tensor\n",
    "from torch.utils.data import DataLoader, Dataset\n",
    "from torchvision import datasets\n",
    "from torchvision.transforms import ToTensor\n",
    "\n",
    "from fastai import *\n",
    "from fastai.tabular.all import *\n",
    "\n",
    "#Feature Importance\n",
    "from sklearn.inspection import permutation_importance\n",
    "\n",
    "#Pipeline\n",
    "from sklearn.pipeline import Pipeline\n",
    "from sklearn.compose import ColumnTransformer\n",
    "from sklearn.model_selection import cross_val_score,cross_validate\n",
    "from sklearn.model_selection import train_test_split, StratifiedShuffleSplit, ShuffleSplit, GroupKFold, StratifiedKFold, KFold\n",
    "from sklearn.model_selection import GridSearchCV\n",
    "from sklearn.feature_selection import mutual_info_regression, mutual_info_classif, GenericUnivariateSelect\n",
    "from sklearn.impute import SimpleImputer\n",
    "from sklearn.preprocessing import OneHotEncoder\n",
    "from sklearn.preprocessing import OrdinalEncoder\n",
    "from sklearn.preprocessing import LabelEncoder\n",
    "from sklearn.preprocessing import FunctionTransformer\n",
    "from sklearn.base import BaseEstimator, TransformerMixin\n",
    "\n",
    "#Scoring\n",
    "from sklearn.metrics import mean_absolute_error, roc_auc_score\n",
    "from sklearn.metrics import mean_squared_error\n",
    "\n",
    "import pickle\n",
    "\n",
    "import optuna\n",
    "\n",
    "is_submission = False\n",
    "OPTUNING = False\n",
    "OPTUNING_CAT = False\n",
    "\n",
    "loadingpath = '/kaggle/input/catboost_v1/other/default/1/CatModellingInts'"
   ]
  },
  {
   "cell_type": "code",
   "execution_count": 2,
   "id": "ab6366aa",
   "metadata": {
    "execution": {
     "iopub.execute_input": "2024-10-24T10:14:27.827091Z",
     "iopub.status.busy": "2024-10-24T10:14:27.826197Z",
     "iopub.status.idle": "2024-10-24T10:14:27.833832Z",
     "shell.execute_reply": "2024-10-24T10:14:27.832366Z"
    },
    "papermill": {
     "duration": 0.018549,
     "end_time": "2024-10-24T10:14:27.836502",
     "exception": false,
     "start_time": "2024-10-24T10:14:27.817953",
     "status": "completed"
    },
    "tags": []
   },
   "outputs": [],
   "source": [
    "def savedumping(variables_names, basename, savepath='/kaggle/working/'):\n",
    "    for ele in variables_names:\n",
    "        f = open(savepath + basename + ele[1],'wb')\n",
    "        pickle.dump(ele[0],f)\n",
    "        f.close()"
   ]
  },
  {
   "cell_type": "code",
   "execution_count": 3,
   "id": "d3582f58",
   "metadata": {
    "execution": {
     "iopub.execute_input": "2024-10-24T10:14:27.850563Z",
     "iopub.status.busy": "2024-10-24T10:14:27.850119Z",
     "iopub.status.idle": "2024-10-24T10:14:27.857697Z",
     "shell.execute_reply": "2024-10-24T10:14:27.856524Z"
    },
    "papermill": {
     "duration": 0.017484,
     "end_time": "2024-10-24T10:14:27.860145",
     "exception": false,
     "start_time": "2024-10-24T10:14:27.842661",
     "status": "completed"
    },
    "tags": []
   },
   "outputs": [],
   "source": [
    "class Loan_grade_enc(BaseEstimator, TransformerMixin):\n",
    "    def __init__(self):\n",
    "        return\n",
    "\n",
    "    def transform(self,X,y=None):\n",
    "        return_dict = {\n",
    "            'A':1,\n",
    "            'B':2,\n",
    "            'C':3,\n",
    "            'D':4,\n",
    "            'E':5,\n",
    "            'F':6,\n",
    "            'G':7,\n",
    "        }\n",
    "        return X.map(lambda x:return_dict.get(x,0))\n",
    "\n",
    "    def fit(self, X, y=None):\n",
    "        return self\n",
    "    def get_feature_names_out(self,name):\n",
    "        return name"
   ]
  },
  {
   "cell_type": "code",
   "execution_count": 4,
   "id": "d5c67876",
   "metadata": {
    "execution": {
     "iopub.execute_input": "2024-10-24T10:14:27.875004Z",
     "iopub.status.busy": "2024-10-24T10:14:27.874167Z",
     "iopub.status.idle": "2024-10-24T10:14:27.881345Z",
     "shell.execute_reply": "2024-10-24T10:14:27.879740Z"
    },
    "papermill": {
     "duration": 0.018706,
     "end_time": "2024-10-24T10:14:27.884654",
     "exception": false,
     "start_time": "2024-10-24T10:14:27.865948",
     "status": "completed"
    },
    "tags": []
   },
   "outputs": [],
   "source": [
    "def find_types(targ_col):\n",
    "    if targ_col.dtype == 'category':\n",
    "        return 'category'\n",
    "    if ((targ_col.astype(bool) - targ_col)==0).all():\n",
    "        return 'bool'\n",
    "    if ((targ_col.astype(int) - targ_col)==0).all():\n",
    "        return 'int'\n",
    "    return 'float'\n"
   ]
  },
  {
   "cell_type": "code",
   "execution_count": 5,
   "id": "0e3365ef",
   "metadata": {
    "execution": {
     "iopub.execute_input": "2024-10-24T10:14:27.901234Z",
     "iopub.status.busy": "2024-10-24T10:14:27.899997Z",
     "iopub.status.idle": "2024-10-24T10:14:27.919206Z",
     "shell.execute_reply": "2024-10-24T10:14:27.917980Z"
    },
    "papermill": {
     "duration": 0.030236,
     "end_time": "2024-10-24T10:14:27.921779",
     "exception": false,
     "start_time": "2024-10-24T10:14:27.891543",
     "status": "completed"
    },
    "tags": []
   },
   "outputs": [],
   "source": [
    "class Data_processor:\n",
    "    def __init__(self, paths, y_col = 'loan_status', all_cat = False):\n",
    "        rawindict={}\n",
    "        for path in paths:\n",
    "            rawindict[path] = pd.read_csv(path)\n",
    "        rawin = pd.concat(rawindict,axis=0)\n",
    "        rawin.index = range(0,rawin.shape[0])\n",
    "        rawin['person_emp_length'] = rawin['person_emp_length'].fillna(123)\n",
    "        rawin['loan_int_rate'] = rawin['loan_int_rate'].fillna(0.01)\n",
    "        self.y_targ = rawin[y_col]\n",
    "        self.transformer = Data_transformer(all_cat)\n",
    "        self.X_processed = self.transformer.fit_train_set(rawin.drop([y_col],axis=1))\n",
    "        \n",
    "class Data_transformer:\n",
    "    def __init__(self, all_cat):\n",
    "        self.all_cat = all_cat\n",
    "        return\n",
    "        \n",
    "    def fit_train_set(self,rawin):\n",
    "        oneh_encoder = OneHotEncoder(handle_unknown='ignore')\n",
    "        ordi_encoder = OrdinalEncoder(handle_unknown='error')\n",
    "        lngr_encoder = Loan_grade_enc()\n",
    "        self.gen_enc = ColumnTransformer(\n",
    "            [\n",
    "                ('oneh',oneh_encoder,['person_home_ownership','loan_intent']),\n",
    "                ('ordi',ordi_encoder,['cb_person_default_on_file']),\n",
    "                ('lngr',lngr_encoder,['loan_grade'])\n",
    "            ],\n",
    "            remainder='passthrough')\n",
    "        self.gen_enc.fit(rawin)\n",
    "        X_processed = self.totalTransform(rawin)\n",
    "        self.groupbymeans = X_processed.groupby('lngr__loan_grade')[['remainder__person_income','remainder__loan_amnt','remainder__loan_int_rate','remainder__loan_percent_income','remainder__cb_person_cred_hist_length']].mean()\n",
    "        X_processed = self.newfeat(X_processed)\n",
    "        self.intypes = X_processed.apply(find_types)\n",
    "        X_processed = self.apply_types(X_processed) \n",
    "        return X_processed\n",
    "        \n",
    "    def totalTransform(self,X_raw):\n",
    "        X_targ = pd.DataFrame(self.gen_enc.transform(X_raw),index = X_raw.index)\n",
    "        X_targ.columns = self.gen_enc.get_feature_names_out(X_raw.columns)\n",
    "        X_targ.drop('remainder__id',axis=1,inplace=True)\n",
    "        return X_targ\n",
    "    \n",
    "    def newfeat(self,X_targ):\n",
    "        X_targ['age_min_cred_length'] = X_targ['remainder__person_age'] - X_targ['remainder__cb_person_cred_hist_length']\n",
    "        X_targ['payment_per_income'] = X_targ['remainder__person_income'] / X_targ['remainder__loan_amnt'] / X_targ['remainder__loan_int_rate']\n",
    "        X_targ['loan_income_check'] = X_targ['remainder__loan_amnt'] / X_targ['remainder__person_income'] - X_targ['remainder__loan_percent_income']\n",
    "        X_targ['rem_life'] = (90 - X_targ['remainder__person_age']) / X_targ['remainder__loan_amnt'] * X_targ['remainder__person_income'] / 100\n",
    "        X_targ['rate_ratio_diff'] = X_targ['remainder__loan_int_rate'] - X_targ['remainder__loan_percent_income']\n",
    "        return X_targ\n",
    "    \n",
    "\n",
    "    def apply_types(self,X_targ):\n",
    "        for idx,ele in self.intypes.items():\n",
    "            if not self.all_cat:\n",
    "                X_targ[idx] = X_targ[idx].astype(ele)\n",
    "            else:\n",
    "                if ele != 'float':\n",
    "                    X_targ[idx] = X_targ[idx].astype(ele)\n",
    "                else:\n",
    "                    X_targ[idx] = X_targ[idx]*100\n",
    "                    X_targ[idx] = X_targ[idx].astype('int')\n",
    "                    \n",
    "        return X_targ\n",
    "    \n",
    "    def test_transform(self,X_test):\n",
    "        return self.apply_types(self.newfeat(self.totalTransform(X_test)))"
   ]
  },
  {
   "cell_type": "code",
   "execution_count": 6,
   "id": "e8d557be",
   "metadata": {
    "execution": {
     "iopub.execute_input": "2024-10-24T10:14:27.935369Z",
     "iopub.status.busy": "2024-10-24T10:14:27.934877Z",
     "iopub.status.idle": "2024-10-24T10:14:28.682403Z",
     "shell.execute_reply": "2024-10-24T10:14:28.681209Z"
    },
    "papermill": {
     "duration": 0.757417,
     "end_time": "2024-10-24T10:14:28.685098",
     "exception": false,
     "start_time": "2024-10-24T10:14:27.927681",
     "status": "completed"
    },
    "tags": []
   },
   "outputs": [],
   "source": [
    "if not is_submission or OPTUNING_CAT or OPTUNING:\n",
    "    testproc = Data_processor(['/kaggle/input/playground-series-s4e10/train.csv','/kaggle/input/loan-approval-prediction/credit_risk_dataset.csv'])"
   ]
  },
  {
   "cell_type": "code",
   "execution_count": 7,
   "id": "a0cfba7a",
   "metadata": {
    "execution": {
     "iopub.execute_input": "2024-10-24T10:14:28.699514Z",
     "iopub.status.busy": "2024-10-24T10:14:28.699076Z",
     "iopub.status.idle": "2024-10-24T10:14:29.287585Z",
     "shell.execute_reply": "2024-10-24T10:14:29.286016Z"
    },
    "papermill": {
     "duration": 0.600049,
     "end_time": "2024-10-24T10:14:29.290855",
     "exception": false,
     "start_time": "2024-10-24T10:14:28.690806",
     "status": "completed"
    },
    "tags": []
   },
   "outputs": [],
   "source": [
    "if not is_submission or OPTUNING_CAT or OPTUNING:\n",
    "    testproc_cat = Data_processor(['/kaggle/input/playground-series-s4e10/train.csv','/kaggle/input/loan-approval-prediction/credit_risk_dataset.csv'], all_cat = True)"
   ]
  },
  {
   "cell_type": "code",
   "execution_count": 8,
   "id": "233ddb52",
   "metadata": {
    "execution": {
     "iopub.execute_input": "2024-10-24T10:14:29.306069Z",
     "iopub.status.busy": "2024-10-24T10:14:29.304841Z",
     "iopub.status.idle": "2024-10-24T10:14:29.316400Z",
     "shell.execute_reply": "2024-10-24T10:14:29.314999Z"
    },
    "papermill": {
     "duration": 0.021809,
     "end_time": "2024-10-24T10:14:29.318887",
     "exception": false,
     "start_time": "2024-10-24T10:14:29.297078",
     "status": "completed"
    },
    "tags": []
   },
   "outputs": [
    {
     "name": "stdout",
     "output_type": "stream",
     "text": [
      "time elapsed hours: 0.0 minutes: 0.0 seconds: 0.0004048347473144531\n"
     ]
    }
   ],
   "source": [
    "class timer():\n",
    "    def __init__(self):\n",
    "        self.t=time.time()\n",
    "    def tic(self):\n",
    "        self.t=time.time()\n",
    "        return\n",
    "    def toc(self):\n",
    "        tot_sec = (time.time()-self.t)\n",
    "        hours = str(np.floor(tot_sec/3600))\n",
    "        minutes = str(np.floor(tot_sec/60)%60)\n",
    "        seconds = str(tot_sec%60)\n",
    "        print(\"time elapsed hours: \" + hours + \" minutes: \" +  minutes + \" seconds: \" + seconds)\n",
    "        return\n",
    "\n",
    "base_timer=timer()\n",
    "base_timer.tic()\n",
    "base_timer.toc()\n",
    "if is_submission:\n",
    "    base_timer.tic()"
   ]
  },
  {
   "cell_type": "code",
   "execution_count": 9,
   "id": "193aaada",
   "metadata": {
    "execution": {
     "iopub.execute_input": "2024-10-24T10:14:29.333485Z",
     "iopub.status.busy": "2024-10-24T10:14:29.332962Z",
     "iopub.status.idle": "2024-10-24T10:14:29.338189Z",
     "shell.execute_reply": "2024-10-24T10:14:29.336841Z"
    },
    "papermill": {
     "duration": 0.015768,
     "end_time": "2024-10-24T10:14:29.340987",
     "exception": false,
     "start_time": "2024-10-24T10:14:29.325219",
     "status": "completed"
    },
    "tags": []
   },
   "outputs": [],
   "source": [
    "aggr_model = []"
   ]
  },
  {
   "cell_type": "code",
   "execution_count": 10,
   "id": "bf5196e6",
   "metadata": {
    "execution": {
     "iopub.execute_input": "2024-10-24T10:14:29.357741Z",
     "iopub.status.busy": "2024-10-24T10:14:29.357215Z",
     "iopub.status.idle": "2024-10-24T10:14:29.367217Z",
     "shell.execute_reply": "2024-10-24T10:14:29.365868Z"
    },
    "papermill": {
     "duration": 0.020285,
     "end_time": "2024-10-24T10:14:29.369948",
     "exception": false,
     "start_time": "2024-10-24T10:14:29.349663",
     "status": "completed"
    },
    "tags": []
   },
   "outputs": [],
   "source": [
    "def feat_importance_func(model,X,y,**kwargs):\n",
    "    print('feat_importance_func running')\n",
    "    base_timer.tic()\n",
    "    result = permutation_importance(\n",
    "        model, X, y, n_repeats=10, random_state=42, n_jobs=2\n",
    "    )\n",
    "    base_timer.toc()\n",
    "    result=pd.DataFrame(np.transpose([result.importances_mean,result.importances_std]),index = X.columns, columns = ['mean','std'])\n",
    "    return result\n",
    "\n",
    "def feat_importance_fast_func(model,X,y,**kwargs):\n",
    "    print('feat_importance_func running')\n",
    "    base_timer.tic()\n",
    "\n",
    "    result = pd.DataFrame(\n",
    "        model.feature_importances_, index=X.columns\n",
    "    )\n",
    "    result.columns = ['mean']\n",
    "    result['std'] = 0\n",
    "    base_timer.toc()\n",
    "    return result\n"
   ]
  },
  {
   "cell_type": "code",
   "execution_count": 11,
   "id": "63efa4c9",
   "metadata": {
    "execution": {
     "iopub.execute_input": "2024-10-24T10:14:29.384060Z",
     "iopub.status.busy": "2024-10-24T10:14:29.383471Z",
     "iopub.status.idle": "2024-10-24T10:14:29.403823Z",
     "shell.execute_reply": "2024-10-24T10:14:29.402500Z"
    },
    "papermill": {
     "duration": 0.030337,
     "end_time": "2024-10-24T10:14:29.406275",
     "exception": false,
     "start_time": "2024-10-24T10:14:29.375938",
     "status": "completed"
    },
    "tags": []
   },
   "outputs": [],
   "source": [
    "def feat_imp_plotter(feat_imps):\n",
    "    col_mean = [col for col in feat_imps.columns if 'mean' in col]\n",
    "    col_std = [col for col in feat_imps.columns if 'std' in col]\n",
    "\n",
    "    feat_imps_agg = pd.concat([feat_imps[col_mean].sum(axis=1),feat_imps[col_std].map(lambda x:x**2).sum(axis=1).map(lambda x:x**0.5)],axis=1)\n",
    "    feat_imps_agg.columns = ['mean','std']\n",
    "    feat_imps_agg['std_cvtocv'] = feat_imps[col_mean].std(axis=1)/(feat_imps_agg['mean']+0.000000001)\n",
    "    feat_imps_agg.sort_values(by='mean',ascending=False,inplace=True)\n",
    "    ax=feat_imps_agg['mean'].plot(kind=\"bar\", yerr=feat_imps_agg['std'])\n",
    "    ax.set_title(\"Feature importances using MDI\")\n",
    "    ax.set_ylabel(\"Mean decrease in impurity\")\n",
    "    ax.figure.tight_layout()\n",
    "    plt.show()\n",
    "\n",
    "    print(feat_imps_agg.index.to_numpy().tolist())\n",
    "    print(feat_imps_agg['mean'].to_numpy().tolist())\n",
    "    print(feat_imps_agg['std'].to_numpy().tolist())\n",
    "    \n",
    "    feat_imps_agg.sort_values(by='std_cvtocv',ascending=False,inplace=True)\n",
    "    print(feat_imps_agg.index.to_numpy().tolist())\n",
    "    print(feat_imps_agg['std_cvtocv'].to_numpy().tolist())\n",
    "    \n",
    "def feat_imp_plotter_ratios(feat_imps,mask):\n",
    "    col_mean = [col for col in feat_imps.columns if 'mean' in col]\n",
    "    col_std = [col for col in feat_imps.columns if 'std' in col]\n",
    "\n",
    "    feat_imps_agg = pd.concat([feat_imps[col_mean].sum(axis=1),feat_imps[col_std].map(lambda x:x**2).sum(axis=1).map(lambda x:x**0.5)],axis=1)\n",
    "    feat_imps_agg.columns = ['mean','std']\n",
    "    change_imps_score = pd.Series(index = feat_imps.index)\n",
    "    change_imps_score = feat_imps_agg['mean']**mask.shape[0]\n",
    "    for col in col_mean:\n",
    "        if mask[col]==1:\n",
    "            change_imps_score = change_imps_score /(feat_imps[col]+0.0001)\n",
    "        else:\n",
    "            change_imps_score = change_imps_score *(feat_imps[col]+0.0001)\n",
    "    change_imps_score = np.log(change_imps_score)\n",
    "    change_imps_score.sort_values(ascending=False,inplace=True)\n",
    "    ax=change_imps_score.plot(kind=\"bar\", yerr=feat_imps_agg['std'])\n",
    "    ax.set_title(\"Feature importances using MDI\")\n",
    "    ax.set_ylabel(\"Mean decrease in impurity\")\n",
    "    ax.figure.tight_layout()\n",
    "    plt.show()\n",
    "    print(change_imps_score.index.to_numpy().tolist())\n",
    "    print(change_imps_score.to_numpy().tolist())"
   ]
  },
  {
   "cell_type": "code",
   "execution_count": 12,
   "id": "564c92b3",
   "metadata": {
    "execution": {
     "iopub.execute_input": "2024-10-24T10:14:29.420567Z",
     "iopub.status.busy": "2024-10-24T10:14:29.420165Z",
     "iopub.status.idle": "2024-10-24T10:14:29.435076Z",
     "shell.execute_reply": "2024-10-24T10:14:29.433747Z"
    },
    "papermill": {
     "duration": 0.024652,
     "end_time": "2024-10-24T10:14:29.437443",
     "exception": false,
     "start_time": "2024-10-24T10:14:29.412791",
     "status": "completed"
    },
    "tags": []
   },
   "outputs": [],
   "source": [
    "def train_lgb(X, y, \n",
    "              feat_importance = None, \n",
    "              feat_importance_args = None, feat_importances_plot = None, cv_scoring = None,\n",
    "              lgbm_params = {\n",
    "                  'verbose' : 1,\n",
    "                  'colsample_bytree':0.5,\n",
    "                  'n_estimators': 1000,\n",
    "                  'reg_lambda': 10,\n",
    "                  'reg_alpha': 0.6,\n",
    "                  'learning_rate': 0.02,\n",
    "              }):    \n",
    "    s_kfold = StratifiedKFold(n_splits=Config.n_splits,shuffle=True)\n",
    "    \n",
    "    models = []\n",
    "    scores = []\n",
    "    feat_importances = pd.DataFrame()\n",
    "    for fi, (train_idx, valid_idx) in enumerate(s_kfold.split(X, y)):\n",
    "        print(f'Fold {fi+1}/{Config.n_splits} ...')\n",
    "        model = lgb.LGBMClassifier(**lgbm_params)\n",
    "        model.fit(\n",
    "            X.iloc[train_idx], y.iloc[train_idx],\n",
    "            eval_set=[(X.iloc[valid_idx], y.iloc[valid_idx]),(X.iloc[train_idx], y.iloc[train_idx])],\n",
    "            eval_metric=['average_precision','auc'],\n",
    "            callbacks=[lgb.early_stopping(Config.early_stop)]\n",
    "        )\n",
    "        models.append(model)\n",
    "        if lgbm_params['verbose']>=1:\n",
    "            lgb.plot_metric(model,'auc')\n",
    "            lgb.plot_metric(model,'average_precision')\n",
    "            plt.scatter(y.loc[valid_idx],model.predict(X.loc[valid_idx,:]))\n",
    "            plt.show()\n",
    "            plt.hist2d(y.loc[valid_idx].to_numpy().flatten(),model.predict(X.loc[valid_idx,:]).flatten(),bins=[21,21])\n",
    "            plt.show()\n",
    "        if cv_scoring is not None:\n",
    "            scores = scores + [cv_scoring(y.loc[valid_idx],model.predict_proba(X.loc[valid_idx,:])[:,1])]\n",
    "        if feat_importance is not None:\n",
    "            next_feat_imp = feat_importance(model, X.loc[valid_idx,:], y.loc[valid_idx], **feat_importance_args)\n",
    "            next_feat_imp.columns = [col + str(fi) for col in next_feat_imp.columns]\n",
    "            feat_importances = pd.concat([feat_importances,next_feat_imp],axis = 1)\n",
    "    if feat_importances_plot is not None:\n",
    "        feat_importances_plot(feat_importances)\n",
    "    return models, feat_importances, scores\n",
    "\n",
    "def infer_lgb(data, models):\n",
    "    total_models = len(models)\n",
    "    \n",
    "    y_out = np.zeros((data.shape[0],2))\n",
    "    for model in models:\n",
    "        y_out = y_out + model.predict_proba(data)\n",
    "    y_out = y_out/total_models\n",
    "    return np.apply_along_axis(lambda y:y[1],1,y_out)"
   ]
  },
  {
   "cell_type": "code",
   "execution_count": 13,
   "id": "af9f7a3e",
   "metadata": {
    "execution": {
     "iopub.execute_input": "2024-10-24T10:14:29.451489Z",
     "iopub.status.busy": "2024-10-24T10:14:29.451068Z",
     "iopub.status.idle": "2024-10-24T10:14:29.464519Z",
     "shell.execute_reply": "2024-10-24T10:14:29.463138Z"
    },
    "papermill": {
     "duration": 0.035094,
     "end_time": "2024-10-24T10:14:29.478475",
     "exception": false,
     "start_time": "2024-10-24T10:14:29.443381",
     "status": "completed"
    },
    "tags": []
   },
   "outputs": [],
   "source": [
    "def train_catboost(X, y, \n",
    "                   feat_importance = None, \n",
    "                   feat_importance_args = None, feat_importances_plot = None, cv_scoring = None,\n",
    "                   catboost_params = {\n",
    "                       'n_estimators': 1000,\n",
    "                       'verbose': -1,\n",
    "                   },\n",
    "                   target_fold = -1\n",
    "                  ):    \n",
    "    s_kfold = StratifiedKFold(n_splits=Config_catboost.n_splits,shuffle=True)\n",
    "    catcols = []\n",
    "    for idx,ele in X.dtypes.items():\n",
    "        if ele != 'float64':\n",
    "            catcols.append(idx)\n",
    "    models = []\n",
    "    scores = []\n",
    "    feat_importances = pd.DataFrame()\n",
    "    for fi, (train_idx, valid_idx) in enumerate(s_kfold.split(X, y)):\n",
    "        if target_fold == -1 or fi == target_fold:\n",
    "            print(f'Fold {fi+1}/{Config_catboost.n_splits} ...')\n",
    "            model = CatBoostClassifier(**catboost_params)\n",
    "            train_data = Pool(X.iloc[train_idx], y.iloc[train_idx],cat_features = catcols)\n",
    "            valid_data = Pool(X.iloc[valid_idx], y.iloc[valid_idx],cat_features = catcols)\n",
    "            model.fit(\n",
    "                train_data,\n",
    "                eval_set=valid_data,\n",
    "                early_stopping_rounds=Config_catboost.early_stop,\n",
    "                plot=Config_catboost.plot_metrics,\n",
    "            )\n",
    "            models.append(model)\n",
    "            if cv_scoring is not None:\n",
    "                scores = scores + [cv_scoring(y.loc[valid_idx],model.predict_proba(X.loc[valid_idx,:])[:,1])]\n",
    "            if feat_importance is not None:\n",
    "                next_feat_imp = feat_importance(model, X.loc[valid_idx,:], y.loc[valid_idx], **feat_importance_args)\n",
    "                next_feat_imp.columns = [col + str(fi) for col in next_feat_imp.columns]\n",
    "                feat_importances = pd.concat([feat_importances,next_feat_imp],axis = 1)\n",
    "    if feat_importances_plot is not None:\n",
    "        feat_importances_plot(feat_importances)\n",
    "    return models, feat_importances, scores\n",
    "\n",
    "def infer_catboost(data, models):\n",
    "    total_models = len(models)\n",
    "    \n",
    "    y_out = np.zeros((data.shape[0],2))\n",
    "    for model in models:\n",
    "        y_out = y_out + model.predict_proba(data)\n",
    "    y_out = y_out/total_models\n",
    "    return np.apply_along_axis(lambda y:y[1],1,y_out)"
   ]
  },
  {
   "cell_type": "code",
   "execution_count": 14,
   "id": "9d192c77",
   "metadata": {
    "execution": {
     "iopub.execute_input": "2024-10-24T10:14:29.493018Z",
     "iopub.status.busy": "2024-10-24T10:14:29.492309Z",
     "iopub.status.idle": "2024-10-24T10:14:29.501357Z",
     "shell.execute_reply": "2024-10-24T10:14:29.500023Z"
    },
    "papermill": {
     "duration": 0.019888,
     "end_time": "2024-10-24T10:14:29.504355",
     "exception": false,
     "start_time": "2024-10-24T10:14:29.484467",
     "status": "completed"
    },
    "tags": []
   },
   "outputs": [],
   "source": [
    "class Config:\n",
    "    #lgb parameters\n",
    "    early_stop = 200\n",
    "    n_splits = 5\n",
    "    use_splits = []\n",
    "    split_agent_features = True\n",
    "    \n",
    "    lgbm_params = {\n",
    "        'verbose' : 1,\n",
    "        'n_estimators': 10000,\n",
    "        'colsample_bytree': 0.3507040407981956, \n",
    "        'reg_lambda': 1.596123927471322, \n",
    "        'reg_alpha': 0.2723801571566109, \n",
    "        'learning_rate': 0.02168731247549655\n",
    "    }\n",
    "    \n",
    "        \n",
    "    feat_importance_dict = {\n",
    "        'n_repeats':10,\n",
    "        'random_state':42,\n",
    "        'n_jobs':2,        \n",
    "    }\n",
    "#if not is_submission:\n",
    "    #models, feat_imp, cv_scoring = train_lgb(testproc.X_processed,testproc.y_targ,cv_scoring=roc_auc_score,lgbm_params = Config.lgbm_params)"
   ]
  },
  {
   "cell_type": "code",
   "execution_count": 15,
   "id": "e98ba04d",
   "metadata": {
    "execution": {
     "iopub.execute_input": "2024-10-24T10:14:29.521857Z",
     "iopub.status.busy": "2024-10-24T10:14:29.520809Z",
     "iopub.status.idle": "2024-10-24T10:16:36.347463Z",
     "shell.execute_reply": "2024-10-24T10:16:36.346239Z"
    },
    "papermill": {
     "duration": 126.836903,
     "end_time": "2024-10-24T10:16:36.350301",
     "exception": false,
     "start_time": "2024-10-24T10:14:29.513398",
     "status": "completed"
    },
    "tags": []
   },
   "outputs": [
    {
     "name": "stdout",
     "output_type": "stream",
     "text": [
      "Fold 3/5 ...\n"
     ]
    },
    {
     "data": {
      "application/vnd.jupyter.widget-view+json": {
       "model_id": "9d5c651c208a44fa99d4c26f0f45a1b3",
       "version_major": 2,
       "version_minor": 0
      },
      "text/plain": [
       "MetricVisualizer(layout=Layout(align_self='stretch', height='500px'))"
      ]
     },
     "metadata": {},
     "output_type": "display_data"
    },
    {
     "name": "stderr",
     "output_type": "stream",
     "text": [
      "Warning: Overfitting detector is active, thus evaluation metric is calculated on every iteration. 'metric_period' is ignored for evaluation metric.\n"
     ]
    },
    {
     "name": "stdout",
     "output_type": "stream",
     "text": [
      "0:\ttest: 0.9253052\tbest: 0.9253052 (0)\ttotal: 177ms\tremaining: 1h 58m 6s\n",
      "100:\ttest: 0.9638296\tbest: 0.9638296 (100)\ttotal: 9.78s\tremaining: 1h 4m 22s\n",
      "200:\ttest: 0.9657338\tbest: 0.9657338 (200)\ttotal: 19.1s\tremaining: 1h 3m 4s\n",
      "300:\ttest: 0.9663715\tbest: 0.9663782 (299)\ttotal: 28.9s\tremaining: 1h 3m 28s\n",
      "400:\ttest: 0.9668500\tbest: 0.9668500 (400)\ttotal: 39.5s\tremaining: 1h 5m 4s\n",
      "500:\ttest: 0.9672136\tbest: 0.9672136 (500)\ttotal: 49.3s\tremaining: 1h 4m 46s\n",
      "600:\ttest: 0.9674481\tbest: 0.9674765 (590)\ttotal: 59.3s\tremaining: 1h 4m 45s\n",
      "700:\ttest: 0.9675099\tbest: 0.9675178 (670)\ttotal: 1m 9s\tremaining: 1h 5m 10s\n",
      "800:\ttest: 0.9676803\tbest: 0.9676828 (798)\ttotal: 1m 19s\tremaining: 1h 5m 12s\n",
      "900:\ttest: 0.9677892\tbest: 0.9677939 (899)\ttotal: 1m 30s\tremaining: 1h 5m 10s\n",
      "1000:\ttest: 0.9678545\tbest: 0.9678627 (990)\ttotal: 1m 40s\tremaining: 1h 5m 31s\n",
      "1100:\ttest: 0.9677761\tbest: 0.9678627 (990)\ttotal: 1m 51s\tremaining: 1h 5m 27s\n",
      "Stopped by overfitting detector  (200 iterations wait)\n",
      "\n",
      "bestTest = 0.9678627154\n",
      "bestIteration = 990\n",
      "\n",
      "Shrink model to first 991 iterations.\n"
     ]
    }
   ],
   "source": [
    "class Config_catboost:\n",
    "    #lgb parameters\n",
    "    early_stop = 200\n",
    "    n_splits = 5\n",
    "    use_splits = []\n",
    "    plot_metrics = True\n",
    "\n",
    "    catboost_params = {\n",
    "        'verbose' : 1,\n",
    "        'n_estimators': 40000,\n",
    "        'loss_function': 'Logloss',\n",
    "        'eval_metric': 'AUC',\n",
    "        'metric_period': 100,\n",
    "        'colsample_bylevel': 0.8238464331915234,\n",
    "        'l2_leaf_reg': 0.7581899740973308,\n",
    "        'model_size_reg': 0.02203622528287333, \n",
    "        'learning_rate': 0.07,\n",
    "        'random_seed': 73,\n",
    "        #'min_child_samples': trial.suggest_int('min_child_samples', 1, 100),\n",
    "        #'max_depth': trial.suggest_int('max_depth', 12, 16),\n",
    "        #'num_leaves': trial.suggest_int('num_leaves', 20, 150),\n",
    "        #'bagging_freq': trial.suggest_int('bagging_freq', 1, 5),\n",
    "    }\n",
    "if not is_submission:\n",
    "    models, feat_imp, cv_scoring = train_catboost(testproc.X_processed,testproc.y_targ,cv_scoring=roc_auc_score,catboost_params = Config_catboost.catboost_params,target_fold=2)\n",
    "    savedumping([(models,'_models'),(testproc.transformer.test_transform,'_test_transform'),(infer_catboost,'_infer'),(Config_catboost.catboost_params,'_params')],'catboost_01')\n",
    "    aggr_model = aggr_model + models"
   ]
  },
  {
   "cell_type": "code",
   "execution_count": 16,
   "id": "5f47dc87",
   "metadata": {
    "execution": {
     "iopub.execute_input": "2024-10-24T10:16:36.366401Z",
     "iopub.status.busy": "2024-10-24T10:16:36.365960Z",
     "iopub.status.idle": "2024-10-24T10:18:28.179314Z",
     "shell.execute_reply": "2024-10-24T10:18:28.178244Z"
    },
    "papermill": {
     "duration": 111.824213,
     "end_time": "2024-10-24T10:18:28.181833",
     "exception": false,
     "start_time": "2024-10-24T10:16:36.357620",
     "status": "completed"
    },
    "tags": []
   },
   "outputs": [
    {
     "name": "stdout",
     "output_type": "stream",
     "text": [
      "Fold 2/5 ...\n"
     ]
    },
    {
     "data": {
      "application/vnd.jupyter.widget-view+json": {
       "model_id": "d6d122a75ad74c87b1b1393d2b98930b",
       "version_major": 2,
       "version_minor": 0
      },
      "text/plain": [
       "MetricVisualizer(layout=Layout(align_self='stretch', height='500px'))"
      ]
     },
     "metadata": {},
     "output_type": "display_data"
    },
    {
     "name": "stderr",
     "output_type": "stream",
     "text": [
      "Warning: Overfitting detector is active, thus evaluation metric is calculated on every iteration. 'metric_period' is ignored for evaluation metric.\n"
     ]
    },
    {
     "name": "stdout",
     "output_type": "stream",
     "text": [
      "0:\ttest: 0.8621959\tbest: 0.8621959 (0)\ttotal: 85ms\tremaining: 56m 39s\n",
      "100:\ttest: 0.9604924\tbest: 0.9604924 (100)\ttotal: 8.17s\tremaining: 53m 46s\n",
      "200:\ttest: 0.9626410\tbest: 0.9626410 (200)\ttotal: 15.5s\tremaining: 51m 13s\n",
      "300:\ttest: 0.9639223\tbest: 0.9639339 (295)\ttotal: 23.2s\tremaining: 50m 54s\n",
      "400:\ttest: 0.9644591\tbest: 0.9644597 (399)\ttotal: 30.8s\tremaining: 50m 42s\n",
      "500:\ttest: 0.9646884\tbest: 0.9647272 (496)\ttotal: 39.4s\tremaining: 51m 44s\n",
      "600:\ttest: 0.9649078\tbest: 0.9649078 (600)\ttotal: 47.3s\tremaining: 51m 40s\n",
      "700:\ttest: 0.9649662\tbest: 0.9649861 (697)\ttotal: 55.3s\tremaining: 51m 40s\n",
      "800:\ttest: 0.9651320\tbest: 0.9651381 (798)\ttotal: 1m 3s\tremaining: 51m 34s\n",
      "900:\ttest: 0.9651149\tbest: 0.9651562 (857)\ttotal: 1m 11s\tremaining: 52m 2s\n",
      "1000:\ttest: 0.9652056\tbest: 0.9652082 (997)\ttotal: 1m 19s\tremaining: 51m 52s\n",
      "1100:\ttest: 0.9653125\tbest: 0.9653152 (1096)\ttotal: 1m 28s\tremaining: 51m 57s\n",
      "1200:\ttest: 0.9653161\tbest: 0.9653686 (1114)\ttotal: 1m 36s\tremaining: 51m 46s\n",
      "1300:\ttest: 0.9652590\tbest: 0.9653686 (1114)\ttotal: 1m 44s\tremaining: 52m\n",
      "Stopped by overfitting detector  (200 iterations wait)\n",
      "\n",
      "bestTest = 0.965368555\n",
      "bestIteration = 1114\n",
      "\n",
      "Shrink model to first 1115 iterations.\n"
     ]
    }
   ],
   "source": [
    "class Config_catboost:\n",
    "    #Catboost parameters\n",
    "    early_stop = 200\n",
    "    n_splits = 5\n",
    "    use_splits = []\n",
    "    plot_metrics = True\n",
    "\n",
    "    catboost_params = {\n",
    "        'verbose' : 1,\n",
    "        'n_estimators': 40000,\n",
    "        'loss_function': 'Logloss',\n",
    "        'eval_metric': 'AUC',\n",
    "        'metric_period': 100,\n",
    "        'colsample_bylevel': 0.4262529055102354,\n",
    "        'l2_leaf_reg': 0.6968608710804043,\n",
    "        'model_size_reg': 0.04518026487545242, \n",
    "        'learning_rate': 0.07,\n",
    "        'random_seed': 73,\n",
    "        #'min_child_samples': trial.suggest_int('min_child_samples', 1, 100),\n",
    "        #'max_depth': trial.suggest_int('max_depth', 12, 16),\n",
    "        #'num_leaves': trial.suggest_int('num_leaves', 20, 150),\n",
    "        #'bagging_freq': trial.suggest_int('bagging_freq', 1, 5),\n",
    "    }\n",
    "if not is_submission:\n",
    "    models, feat_imp, cv_scoring = train_catboost(testproc.X_processed,testproc.y_targ,cv_scoring=roc_auc_score,catboost_params = Config_catboost.catboost_params,target_fold=1)\n",
    "    savedumping([(models,'_models'),(testproc.transformer.test_transform,'_test_transform'),(infer_catboost,'_infer'),(Config_catboost.catboost_params,'_params')],'catboost_02')\n",
    "    aggr_model = aggr_model + models"
   ]
  },
  {
   "cell_type": "code",
   "execution_count": 17,
   "id": "f3b61ce7",
   "metadata": {
    "execution": {
     "iopub.execute_input": "2024-10-24T10:18:28.200837Z",
     "iopub.status.busy": "2024-10-24T10:18:28.199808Z",
     "iopub.status.idle": "2024-10-24T10:20:16.663732Z",
     "shell.execute_reply": "2024-10-24T10:20:16.662687Z"
    },
    "papermill": {
     "duration": 108.476378,
     "end_time": "2024-10-24T10:20:16.666532",
     "exception": false,
     "start_time": "2024-10-24T10:18:28.190154",
     "status": "completed"
    },
    "tags": []
   },
   "outputs": [
    {
     "name": "stdout",
     "output_type": "stream",
     "text": [
      "Fold 4/5 ...\n"
     ]
    },
    {
     "data": {
      "application/vnd.jupyter.widget-view+json": {
       "model_id": "4f499a995f834cd3835bc25accaca196",
       "version_major": 2,
       "version_minor": 0
      },
      "text/plain": [
       "MetricVisualizer(layout=Layout(align_self='stretch', height='500px'))"
      ]
     },
     "metadata": {},
     "output_type": "display_data"
    },
    {
     "name": "stderr",
     "output_type": "stream",
     "text": [
      "Warning: Overfitting detector is active, thus evaluation metric is calculated on every iteration. 'metric_period' is ignored for evaluation metric.\n"
     ]
    },
    {
     "name": "stdout",
     "output_type": "stream",
     "text": [
      "0:\ttest: 0.8659996\tbest: 0.8659996 (0)\ttotal: 54.9ms\tremaining: 36m 34s\n",
      "100:\ttest: 0.9646399\tbest: 0.9646399 (100)\ttotal: 6.18s\tremaining: 40m 40s\n",
      "200:\ttest: 0.9668596\tbest: 0.9668596 (200)\ttotal: 12.7s\tremaining: 41m 46s\n",
      "300:\ttest: 0.9674769\tbest: 0.9674769 (300)\ttotal: 19s\tremaining: 41m 44s\n",
      "400:\ttest: 0.9677808\tbest: 0.9677939 (393)\ttotal: 26.1s\tremaining: 42m 55s\n",
      "500:\ttest: 0.9680299\tbest: 0.9680352 (499)\ttotal: 32.8s\tremaining: 43m 2s\n",
      "600:\ttest: 0.9680936\tbest: 0.9681563 (556)\ttotal: 39.5s\tremaining: 43m 12s\n",
      "700:\ttest: 0.9682460\tbest: 0.9682460 (700)\ttotal: 46.1s\tremaining: 43m 4s\n",
      "800:\ttest: 0.9683336\tbest: 0.9683672 (765)\ttotal: 53.1s\tremaining: 43m 18s\n",
      "900:\ttest: 0.9683992\tbest: 0.9683992 (900)\ttotal: 1m\tremaining: 43m 33s\n",
      "1000:\ttest: 0.9684291\tbest: 0.9684591 (917)\ttotal: 1m 7s\tremaining: 43m 31s\n",
      "1100:\ttest: 0.9684034\tbest: 0.9684687 (1050)\ttotal: 1m 13s\tremaining: 43m 32s\n",
      "1200:\ttest: 0.9684548\tbest: 0.9684891 (1184)\ttotal: 1m 20s\tremaining: 43m 26s\n",
      "1300:\ttest: 0.9685272\tbest: 0.9685483 (1298)\ttotal: 1m 28s\tremaining: 43m 42s\n",
      "1400:\ttest: 0.9685468\tbest: 0.9685483 (1298)\ttotal: 1m 35s\tremaining: 43m 44s\n",
      "Stopped by overfitting detector  (200 iterations wait)\n",
      "\n",
      "bestTest = 0.968548255\n",
      "bestIteration = 1298\n",
      "\n",
      "Shrink model to first 1299 iterations.\n"
     ]
    }
   ],
   "source": [
    "class Config_catboost:\n",
    "    #Catboost parameters\n",
    "    early_stop = 200\n",
    "    n_splits = 5\n",
    "    use_splits = []\n",
    "    plot_metrics = True\n",
    "\n",
    "    catboost_params = {\n",
    "        'verbose' : 1,\n",
    "        'n_estimators': 40000,\n",
    "        'loss_function': 'Logloss',\n",
    "        'eval_metric': 'AUC',\n",
    "        'metric_period': 100,\n",
    "        'colsample_bylevel': 0.25936353011971747,\n",
    "        'l2_leaf_reg': 0.7757480352487609,\n",
    "        'model_size_reg': 0.03732471214030866, \n",
    "        'learning_rate': 0.07,\n",
    "        'random_seed': 73,\n",
    "        #'min_child_samples': trial.suggest_int('min_child_samples', 1, 100),\n",
    "        #'max_depth': trial.suggest_int('max_depth', 12, 16),\n",
    "        #'num_leaves': trial.suggest_int('num_leaves', 20, 150),\n",
    "        #'bagging_freq': trial.suggest_int('bagging_freq', 1, 5),\n",
    "    }\n",
    "if not is_submission:\n",
    "    models, feat_imp, cv_scoring = train_catboost(testproc.X_processed,testproc.y_targ,cv_scoring=roc_auc_score,catboost_params = Config_catboost.catboost_params,target_fold=3)\n",
    "    savedumping([(models,'_models'),(testproc.transformer.test_transform,'_test_transform'),(infer_catboost,'_infer'),(Config_catboost.catboost_params,'_params')],'catboost_03')\n",
    "    aggr_model = aggr_model + models"
   ]
  },
  {
   "cell_type": "code",
   "execution_count": 18,
   "id": "b8c330cc",
   "metadata": {
    "execution": {
     "iopub.execute_input": "2024-10-24T10:20:16.687556Z",
     "iopub.status.busy": "2024-10-24T10:20:16.687122Z",
     "iopub.status.idle": "2024-10-24T10:22:31.596292Z",
     "shell.execute_reply": "2024-10-24T10:22:31.595150Z"
    },
    "papermill": {
     "duration": 134.922821,
     "end_time": "2024-10-24T10:22:31.599001",
     "exception": false,
     "start_time": "2024-10-24T10:20:16.676180",
     "status": "completed"
    },
    "tags": []
   },
   "outputs": [
    {
     "name": "stdout",
     "output_type": "stream",
     "text": [
      "Fold 5/5 ...\n"
     ]
    },
    {
     "data": {
      "application/vnd.jupyter.widget-view+json": {
       "model_id": "d3908620f89d4adeb983c0197a347c7b",
       "version_major": 2,
       "version_minor": 0
      },
      "text/plain": [
       "MetricVisualizer(layout=Layout(align_self='stretch', height='500px'))"
      ]
     },
     "metadata": {},
     "output_type": "display_data"
    },
    {
     "name": "stderr",
     "output_type": "stream",
     "text": [
      "Warning: Overfitting detector is active, thus evaluation metric is calculated on every iteration. 'metric_period' is ignored for evaluation metric.\n"
     ]
    },
    {
     "name": "stdout",
     "output_type": "stream",
     "text": [
      "0:\ttest: 0.8672852\tbest: 0.8672852 (0)\ttotal: 98.7ms\tremaining: 1h 5m 49s\n",
      "100:\ttest: 0.9625075\tbest: 0.9625075 (100)\ttotal: 9.79s\tremaining: 1h 4m 28s\n",
      "200:\ttest: 0.9649247\tbest: 0.9649247 (200)\ttotal: 19.9s\tremaining: 1h 5m 32s\n",
      "300:\ttest: 0.9659302\tbest: 0.9659302 (300)\ttotal: 29.6s\tremaining: 1h 5m 10s\n",
      "400:\ttest: 0.9665176\tbest: 0.9665176 (400)\ttotal: 39.5s\tremaining: 1h 4m 59s\n",
      "500:\ttest: 0.9667800\tbest: 0.9668100 (489)\ttotal: 50.2s\tremaining: 1h 5m 54s\n",
      "600:\ttest: 0.9670543\tbest: 0.9670581 (589)\ttotal: 1m\tremaining: 1h 5m 47s\n",
      "700:\ttest: 0.9672759\tbest: 0.9672759 (700)\ttotal: 1m 10s\tremaining: 1h 5m 48s\n",
      "800:\ttest: 0.9673237\tbest: 0.9673281 (715)\ttotal: 1m 21s\tremaining: 1h 6m 27s\n",
      "900:\ttest: 0.9673978\tbest: 0.9674100 (877)\ttotal: 1m 31s\tremaining: 1h 6m 23s\n",
      "1000:\ttest: 0.9675165\tbest: 0.9675348 (990)\ttotal: 1m 42s\tremaining: 1h 6m 24s\n",
      "1100:\ttest: 0.9674889\tbest: 0.9675454 (1055)\ttotal: 1m 53s\tremaining: 1h 6m 45s\n",
      "1200:\ttest: 0.9674943\tbest: 0.9675454 (1055)\ttotal: 2m 3s\tremaining: 1h 6m 39s\n",
      "Stopped by overfitting detector  (200 iterations wait)\n",
      "\n",
      "bestTest = 0.9675454393\n",
      "bestIteration = 1055\n",
      "\n",
      "Shrink model to first 1056 iterations.\n"
     ]
    }
   ],
   "source": [
    "class Config_catboost:\n",
    "    #Catboost parameters\n",
    "    early_stop = 200\n",
    "    n_splits = 5\n",
    "    use_splits = []\n",
    "    plot_metrics = True\n",
    "\n",
    "    catboost_params = {\n",
    "        'verbose' : 1,\n",
    "        'n_estimators': 40000,\n",
    "        'loss_function': 'Logloss',\n",
    "        'eval_metric': 'AUC',\n",
    "        'metric_period': 100,\n",
    "        'colsample_bylevel': 0.853899465738587,\n",
    "        'l2_leaf_reg': 0.7999193591030588,\n",
    "        'model_size_reg': 0.0849983257003327,\n",
    "        'learning_rate': 0.07,\n",
    "        'random_seed': 73,\n",
    "        #'min_child_samples': trial.suggest_int('min_child_samples', 1, 100),\n",
    "        #'max_depth': trial.suggest_int('max_depth', 12, 16),\n",
    "        #'num_leaves': trial.suggest_int('num_leaves', 20, 150),\n",
    "        #'bagging_freq': trial.suggest_int('bagging_freq', 1, 5),\n",
    "    }\n",
    "if not is_submission:\n",
    "    models, feat_imp, cv_scoring = train_catboost(testproc.X_processed,testproc.y_targ,cv_scoring=roc_auc_score,catboost_params = Config_catboost.catboost_params,target_fold=4)\n",
    "    savedumping([(models,'_models'),(testproc.transformer.test_transform,'_test_transform'),(infer_catboost,'_infer'),(Config_catboost.catboost_params,'_params')],'catboost_04')\n",
    "    aggr_model = aggr_model + models"
   ]
  },
  {
   "cell_type": "code",
   "execution_count": 19,
   "id": "b6bcd822",
   "metadata": {
    "execution": {
     "iopub.execute_input": "2024-10-24T10:22:31.622096Z",
     "iopub.status.busy": "2024-10-24T10:22:31.621614Z",
     "iopub.status.idle": "2024-10-24T10:24:46.514657Z",
     "shell.execute_reply": "2024-10-24T10:24:46.513358Z"
    },
    "papermill": {
     "duration": 134.907859,
     "end_time": "2024-10-24T10:24:46.517538",
     "exception": false,
     "start_time": "2024-10-24T10:22:31.609679",
     "status": "completed"
    },
    "tags": []
   },
   "outputs": [
    {
     "name": "stdout",
     "output_type": "stream",
     "text": [
      "Fold 1/5 ...\n"
     ]
    },
    {
     "data": {
      "application/vnd.jupyter.widget-view+json": {
       "model_id": "bfb5e0054d304535870fef859fa30a13",
       "version_major": 2,
       "version_minor": 0
      },
      "text/plain": [
       "MetricVisualizer(layout=Layout(align_self='stretch', height='500px'))"
      ]
     },
     "metadata": {},
     "output_type": "display_data"
    },
    {
     "name": "stderr",
     "output_type": "stream",
     "text": [
      "Warning: Overfitting detector is active, thus evaluation metric is calculated on every iteration. 'metric_period' is ignored for evaluation metric.\n"
     ]
    },
    {
     "name": "stdout",
     "output_type": "stream",
     "text": [
      "0:\ttest: 0.8738845\tbest: 0.8738845 (0)\ttotal: 96.1ms\tremaining: 1h 4m 5s\n",
      "100:\ttest: 0.9604826\tbest: 0.9604826 (100)\ttotal: 9.52s\tremaining: 1h 2m 42s\n",
      "200:\ttest: 0.9627854\tbest: 0.9627854 (200)\ttotal: 18.8s\tremaining: 1h 2m 12s\n",
      "300:\ttest: 0.9638429\tbest: 0.9638432 (299)\ttotal: 28.2s\tremaining: 1h 2m 3s\n",
      "400:\ttest: 0.9644565\tbest: 0.9644583 (398)\ttotal: 37.9s\tremaining: 1h 2m 27s\n",
      "500:\ttest: 0.9648114\tbest: 0.9648114 (500)\ttotal: 48.5s\tremaining: 1h 3m 41s\n",
      "600:\ttest: 0.9650402\tbest: 0.9650402 (600)\ttotal: 58s\tremaining: 1h 3m 22s\n",
      "700:\ttest: 0.9653417\tbest: 0.9653467 (699)\ttotal: 1m 7s\tremaining: 1h 3m 21s\n",
      "800:\ttest: 0.9654144\tbest: 0.9654221 (797)\ttotal: 1m 18s\tremaining: 1h 3m 50s\n",
      "900:\ttest: 0.9654110\tbest: 0.9654506 (886)\ttotal: 1m 28s\tremaining: 1h 3m 42s\n",
      "1000:\ttest: 0.9654590\tbest: 0.9654857 (927)\ttotal: 1m 37s\tremaining: 1h 3m 36s\n",
      "1100:\ttest: 0.9655445\tbest: 0.9655555 (1099)\ttotal: 1m 48s\tremaining: 1h 3m 53s\n",
      "1200:\ttest: 0.9655109\tbest: 0.9655670 (1110)\ttotal: 1m 58s\tremaining: 1h 3m 47s\n",
      "1300:\ttest: 0.9655421\tbest: 0.9655670 (1110)\ttotal: 2m 8s\tremaining: 1h 3m 39s\n",
      "Stopped by overfitting detector  (200 iterations wait)\n",
      "\n",
      "bestTest = 0.9655669666\n",
      "bestIteration = 1110\n",
      "\n",
      "Shrink model to first 1111 iterations.\n"
     ]
    }
   ],
   "source": [
    "class Config_catboost:\n",
    "    #Catboost parameters\n",
    "    early_stop = 200\n",
    "    n_splits = 5\n",
    "    use_splits = []\n",
    "    plot_metrics = True\n",
    "\n",
    "    catboost_params = {\n",
    "        'verbose' : 1,\n",
    "        'n_estimators': 40000,\n",
    "        'loss_function': 'Logloss',\n",
    "        'eval_metric': 'AUC',\n",
    "        'metric_period': 100,\n",
    "        'colsample_bylevel': 0.7626854248140648,\n",
    "        'l2_leaf_reg': 0.8533528033396921,\n",
    "        'model_size_reg': 0.06941554875957238, \n",
    "        'learning_rate': 0.07,\n",
    "        'random_seed': 73,\n",
    "        #'min_child_samples': trial.suggest_int('min_child_samples', 1, 100),\n",
    "        #'max_depth': trial.suggest_int('max_depth', 12, 16),\n",
    "        #'num_leaves': trial.suggest_int('num_leaves', 20, 150),\n",
    "        #'bagging_freq': trial.suggest_int('bagging_freq', 1, 5),\n",
    "    }\n",
    "if not is_submission:\n",
    "    models, feat_imp, cv_scoring = train_catboost(testproc.X_processed,testproc.y_targ,cv_scoring=roc_auc_score,catboost_params = Config_catboost.catboost_params,target_fold=0)\n",
    "    savedumping([(models,'_models'),(testproc.transformer.test_transform,'_test_transform'),(infer_catboost,'_infer'),(Config_catboost.catboost_params,'_params')],'catboost_05')\n",
    "    aggr_model = aggr_model + models"
   ]
  },
  {
   "cell_type": "code",
   "execution_count": 20,
   "id": "5d072eac",
   "metadata": {
    "execution": {
     "iopub.execute_input": "2024-10-24T10:24:46.543329Z",
     "iopub.status.busy": "2024-10-24T10:24:46.542861Z",
     "iopub.status.idle": "2024-10-24T10:24:56.005114Z",
     "shell.execute_reply": "2024-10-24T10:24:56.003980Z"
    },
    "papermill": {
     "duration": 9.478214,
     "end_time": "2024-10-24T10:24:56.007734",
     "exception": false,
     "start_time": "2024-10-24T10:24:46.529520",
     "status": "completed"
    },
    "tags": []
   },
   "outputs": [
    {
     "name": "stdout",
     "output_type": "stream",
     "text": [
      "submission\n"
     ]
    }
   ],
   "source": [
    "if True:\n",
    "    print('submission')\n",
    "    #f = open(loadingpath,'rb')\n",
    "    #models = pickle.load(f)\n",
    "    #f.close()\n",
    "    #f = open(loadingpath+'_config','rb')\n",
    "    #Config_catboost = pickle.load(f)\n",
    "    #f.close()\n",
    "    #f = open(loadingpath+'_infer','rb')\n",
    "    #infer_catboost = pickle.load(f)\n",
    "    #f.close()\n",
    "    #f = open(loadingpath+'_transform','rb')\n",
    "    #test_transform = pickle.load(f)\n",
    "    #f.close()\n",
    "    \n",
    "    X_test_raw = pd.read_csv('/kaggle/input/playground-series-s4e10/test.csv')\n",
    "    X_test = testproc.transformer.test_transform(X_test_raw)\n",
    "    \n",
    "    y_test_pred = pd.DataFrame(infer_catboost(X_test,aggr_model),index = X_test.index,columns = ['loan_status'])\n",
    "    y_test_pred = pd.concat([y_test_pred,X_test_raw['id']],axis=1)\n",
    "    y_test_pred.to_csv('/kaggle/working/submission.csv',index=False)"
   ]
  }
 ],
 "metadata": {
  "kaggle": {
   "accelerator": "none",
   "dataSources": [
    {
     "databundleVersionId": 9709193,
     "sourceId": 84894,
     "sourceType": "competition"
    },
    {
     "datasetId": 4675026,
     "sourceId": 7949759,
     "sourceType": "datasetVersion"
    },
    {
     "isSourceIdPinned": true,
     "modelId": 136567,
     "modelInstanceId": 113243,
     "sourceId": 133916,
     "sourceType": "modelInstanceVersion"
    }
   ],
   "dockerImageVersionId": 30786,
   "isGpuEnabled": false,
   "isInternetEnabled": true,
   "language": "python",
   "sourceType": "notebook"
  },
  "kernelspec": {
   "display_name": "Python 3",
   "language": "python",
   "name": "python3"
  },
  "language_info": {
   "codemirror_mode": {
    "name": "ipython",
    "version": 3
   },
   "file_extension": ".py",
   "mimetype": "text/x-python",
   "name": "python",
   "nbconvert_exporter": "python",
   "pygments_lexer": "ipython3",
   "version": "3.10.14"
  },
  "papermill": {
   "default_parameters": {},
   "duration": 658.878367,
   "end_time": "2024-10-24T10:24:59.148775",
   "environment_variables": {},
   "exception": null,
   "input_path": "__notebook__.ipynb",
   "output_path": "__notebook__.ipynb",
   "parameters": {},
   "start_time": "2024-10-24T10:14:00.270408",
   "version": "2.6.0"
  },
  "widgets": {
   "application/vnd.jupyter.widget-state+json": {
    "state": {
     "1e4dda78d90f4e1aa877f31625f6f8a8": {
      "model_module": "@jupyter-widgets/base",
      "model_module_version": "1.2.0",
      "model_name": "LayoutModel",
      "state": {
       "_model_module": "@jupyter-widgets/base",
       "_model_module_version": "1.2.0",
       "_model_name": "LayoutModel",
       "_view_count": null,
       "_view_module": "@jupyter-widgets/base",
       "_view_module_version": "1.2.0",
       "_view_name": "LayoutView",
       "align_content": null,
       "align_items": null,
       "align_self": "stretch",
       "border": null,
       "bottom": null,
       "display": null,
       "flex": null,
       "flex_flow": null,
       "grid_area": null,
       "grid_auto_columns": null,
       "grid_auto_flow": null,
       "grid_auto_rows": null,
       "grid_column": null,
       "grid_gap": null,
       "grid_row": null,
       "grid_template_areas": null,
       "grid_template_columns": null,
       "grid_template_rows": null,
       "height": "500px",
       "justify_content": null,
       "justify_items": null,
       "left": null,
       "margin": null,
       "max_height": null,
       "max_width": null,
       "min_height": null,
       "min_width": null,
       "object_fit": null,
       "object_position": null,
       "order": null,
       "overflow": null,
       "overflow_x": null,
       "overflow_y": null,
       "padding": null,
       "right": null,
       "top": null,
       "visibility": null,
       "width": null
      }
     },
     "4f499a995f834cd3835bc25accaca196": {
      "model_module": "catboost-widget",
      "model_module_version": "^1.0.0",
      "model_name": "CatboostWidgetModel",
      "state": {
       "_dom_classes": [],
       "_model_module": "catboost-widget",
       "_model_module_version": "^1.0.0",
       "_model_name": "CatboostWidgetModel",
       "_view_count": null,
       "_view_module": "catboost-widget",
       "_view_module_version": "^1.0.0",
       "_view_name": "CatboostWidgetView",
       "data": {
        "catboost_info": {
         "content": {
          "data": {
           "iterations": [
            {
             "iteration": 0,
             "learn": [
              0.6188959199
             ],
             "passed_time": 0.0548646633,
             "remaining_time": 2194.531667,
             "test": [
              0.8659996411,
              0.6185830853
             ]
            },
            {
             "iteration": 100,
             "learn": [
              0.1608353977
             ],
             "passed_time": 6.177670601,
             "remaining_time": 2440.424548,
             "test": [
              0.964639867,
              0.1530462023
             ]
            },
            {
             "iteration": 200,
             "learn": [
              0.1516427051
             ],
             "passed_time": 12.65800201,
             "remaining_time": 2506.347374,
             "test": [
              0.9668595932,
              0.1468033601
             ]
            },
            {
             "iteration": 300,
             "learn": [
              0.1465276342
             ],
             "passed_time": 18.98989542,
             "remaining_time": 2504.584247,
             "test": [
              0.9674769486,
              0.1450291044
             ]
            },
            {
             "iteration": 400,
             "learn": [
              0.1426339741
             ],
             "passed_time": 26.08037335,
             "remaining_time": 2575.453128,
             "test": [
              0.9677808134,
              0.1440019621
             ]
            },
            {
             "iteration": 500,
             "learn": [
              0.1391101604
             ],
             "passed_time": 32.75047884,
             "remaining_time": 2582.058211,
             "test": [
              0.9680298899,
              0.1433255537
             ]
            },
            {
             "iteration": 600,
             "learn": [
              0.1360647652
             ],
             "passed_time": 39.54114673,
             "remaining_time": 2592.149151,
             "test": [
              0.9680935997,
              0.1428645701
             ]
            },
            {
             "iteration": 700,
             "learn": [
              0.1333472764
             ],
             "passed_time": 46.10287144,
             "remaining_time": 2584.588794,
             "test": [
              0.9682459909,
              0.1423869185
             ]
            },
            {
             "iteration": 800,
             "learn": [
              0.1306083175
             ],
             "passed_time": 53.10050197,
             "remaining_time": 2598.609958,
             "test": [
              0.9683335839,
              0.142189017
             ]
            },
            {
             "iteration": 900,
             "learn": [
              0.1277239049
             ],
             "passed_time": 60.23278749,
             "remaining_time": 2613.808832,
             "test": [
              0.9683991506,
              0.1419717388
             ]
            },
            {
             "iteration": 1000,
             "learn": [
              0.1252655293
             ],
             "passed_time": 67.02792421,
             "remaining_time": 2611.410606,
             "test": [
              0.9684290739,
              0.1418562753
             ]
            },
            {
             "iteration": 1100,
             "learn": [
              0.1229138415
             ],
             "passed_time": 73.93525677,
             "remaining_time": 2612.177614,
             "test": [
              0.9684034406,
              0.1418492546
             ]
            },
            {
             "iteration": 1200,
             "learn": [
              0.1203225989
             ],
             "passed_time": 80.69511063,
             "remaining_time": 2606.902246,
             "test": [
              0.9684547713,
              0.141781875
             ]
            },
            {
             "iteration": 1300,
             "learn": [
              0.1179834421
             ],
             "passed_time": 88.15682548,
             "remaining_time": 2622.275933,
             "test": [
              0.9685272318,
              0.141637782
             ]
            },
            {
             "iteration": 1400,
             "learn": [
              0.1158488616
             ],
             "passed_time": 95.26944986,
             "remaining_time": 2624.771945,
             "test": [
              0.9685467609,
              0.1415410937
             ]
            }
           ],
           "meta": {
            "iteration_count": 40000,
            "launch_mode": "Train",
            "learn_metrics": [
             {
              "best_value": "Min",
              "name": "Logloss"
             }
            ],
            "learn_sets": [
             "learn"
            ],
            "name": "experiment",
            "parameters": "",
            "test_metrics": [
             {
              "best_value": "Max",
              "name": "AUC"
             },
             {
              "best_value": "Min",
              "name": "Logloss"
             }
            ],
            "test_sets": [
             "test"
            ]
           }
          },
          "passed_iterations": 1400,
          "total_iterations": 40000
         },
         "name": "catboost_info",
         "path": "catboost_info"
        }
       },
       "layout": "IPY_MODEL_bc0c34989f5547469e06794e8d60823e"
      }
     },
     "978e43d201bd45a28d1dd51441530f64": {
      "model_module": "@jupyter-widgets/base",
      "model_module_version": "1.2.0",
      "model_name": "LayoutModel",
      "state": {
       "_model_module": "@jupyter-widgets/base",
       "_model_module_version": "1.2.0",
       "_model_name": "LayoutModel",
       "_view_count": null,
       "_view_module": "@jupyter-widgets/base",
       "_view_module_version": "1.2.0",
       "_view_name": "LayoutView",
       "align_content": null,
       "align_items": null,
       "align_self": "stretch",
       "border": null,
       "bottom": null,
       "display": null,
       "flex": null,
       "flex_flow": null,
       "grid_area": null,
       "grid_auto_columns": null,
       "grid_auto_flow": null,
       "grid_auto_rows": null,
       "grid_column": null,
       "grid_gap": null,
       "grid_row": null,
       "grid_template_areas": null,
       "grid_template_columns": null,
       "grid_template_rows": null,
       "height": "500px",
       "justify_content": null,
       "justify_items": null,
       "left": null,
       "margin": null,
       "max_height": null,
       "max_width": null,
       "min_height": null,
       "min_width": null,
       "object_fit": null,
       "object_position": null,
       "order": null,
       "overflow": null,
       "overflow_x": null,
       "overflow_y": null,
       "padding": null,
       "right": null,
       "top": null,
       "visibility": null,
       "width": null
      }
     },
     "9d5c651c208a44fa99d4c26f0f45a1b3": {
      "model_module": "catboost-widget",
      "model_module_version": "^1.0.0",
      "model_name": "CatboostWidgetModel",
      "state": {
       "_dom_classes": [],
       "_model_module": "catboost-widget",
       "_model_module_version": "^1.0.0",
       "_model_name": "CatboostWidgetModel",
       "_view_count": null,
       "_view_module": "catboost-widget",
       "_view_module_version": "^1.0.0",
       "_view_name": "CatboostWidgetView",
       "data": {
        "catboost_info": {
         "content": {
          "data": {
           "iterations": [
            {
             "iteration": 0,
             "learn": [
              0.5990668379
             ],
             "passed_time": 0.1771643739,
             "remaining_time": 7086.397791,
             "test": [
              0.9253051503,
              0.5967281589
             ]
            },
            {
             "iteration": 100,
             "learn": [
              0.158449948
             ],
             "passed_time": 9.777111264,
             "remaining_time": 3862.346161,
             "test": [
              0.9638295832,
              0.1531600314
             ]
            },
            {
             "iteration": 200,
             "learn": [
              0.1504963006
             ],
             "passed_time": 19.11156427,
             "remaining_time": 3784.184809,
             "test": [
              0.9657338118,
              0.1483072225
             ]
            },
            {
             "iteration": 300,
             "learn": [
              0.1454703382
             ],
             "passed_time": 28.87643538,
             "remaining_time": 3808.523615,
             "test": [
              0.9663715222,
              0.1466770244
             ]
            },
            {
             "iteration": 400,
             "learn": [
              0.1415517853
             ],
             "passed_time": 39.53451053,
             "remaining_time": 3904.057562,
             "test": [
              0.9668499918,
              0.1454023097
             ]
            },
            {
             "iteration": 500,
             "learn": [
              0.1382494117
             ],
             "passed_time": 49.29004852,
             "remaining_time": 3886.043167,
             "test": [
              0.9672136047,
              0.1447062706
             ]
            },
            {
             "iteration": 600,
             "learn": [
              0.135237151
             ],
             "passed_time": 59.26564453,
             "remaining_time": 3885.203209,
             "test": [
              0.9674480787,
              0.144230387
             ]
            },
            {
             "iteration": 700,
             "learn": [
              0.1323287686
             ],
             "passed_time": 69.7532412,
             "remaining_time": 3910.460236,
             "test": [
              0.9675099049,
              0.1440420014
             ]
            },
            {
             "iteration": 800,
             "learn": [
              0.1296775209
             ],
             "passed_time": 79.95592269,
             "remaining_time": 3912.849206,
             "test": [
              0.9676802898,
              0.1438807599
             ]
            },
            {
             "iteration": 900,
             "learn": [
              0.1270515817
             ],
             "passed_time": 90.11580513,
             "remaining_time": 3910.585866,
             "test": [
              0.9677891687,
              0.1437495385
             ]
            },
            {
             "iteration": 1000,
             "learn": [
              0.1245070463
             ],
             "passed_time": 100.9138512,
             "remaining_time": 3931.607673,
             "test": [
              0.9678545174,
              0.1437118147
             ]
            },
            {
             "iteration": 1100,
             "learn": [
              0.1221644397
             ],
             "passed_time": 111.1519458,
             "remaining_time": 3927.065884,
             "test": [
              0.9677761246,
              0.1438522869
             ]
            }
           ],
           "meta": {
            "iteration_count": 40000,
            "launch_mode": "Train",
            "learn_metrics": [
             {
              "best_value": "Min",
              "name": "Logloss"
             }
            ],
            "learn_sets": [
             "learn"
            ],
            "name": "experiment",
            "parameters": "",
            "test_metrics": [
             {
              "best_value": "Max",
              "name": "AUC"
             },
             {
              "best_value": "Min",
              "name": "Logloss"
             }
            ],
            "test_sets": [
             "test"
            ]
           }
          },
          "passed_iterations": 1100,
          "total_iterations": 40000
         },
         "name": "catboost_info",
         "path": "catboost_info"
        }
       },
       "layout": "IPY_MODEL_978e43d201bd45a28d1dd51441530f64"
      }
     },
     "bc0c34989f5547469e06794e8d60823e": {
      "model_module": "@jupyter-widgets/base",
      "model_module_version": "1.2.0",
      "model_name": "LayoutModel",
      "state": {
       "_model_module": "@jupyter-widgets/base",
       "_model_module_version": "1.2.0",
       "_model_name": "LayoutModel",
       "_view_count": null,
       "_view_module": "@jupyter-widgets/base",
       "_view_module_version": "1.2.0",
       "_view_name": "LayoutView",
       "align_content": null,
       "align_items": null,
       "align_self": "stretch",
       "border": null,
       "bottom": null,
       "display": null,
       "flex": null,
       "flex_flow": null,
       "grid_area": null,
       "grid_auto_columns": null,
       "grid_auto_flow": null,
       "grid_auto_rows": null,
       "grid_column": null,
       "grid_gap": null,
       "grid_row": null,
       "grid_template_areas": null,
       "grid_template_columns": null,
       "grid_template_rows": null,
       "height": "500px",
       "justify_content": null,
       "justify_items": null,
       "left": null,
       "margin": null,
       "max_height": null,
       "max_width": null,
       "min_height": null,
       "min_width": null,
       "object_fit": null,
       "object_position": null,
       "order": null,
       "overflow": null,
       "overflow_x": null,
       "overflow_y": null,
       "padding": null,
       "right": null,
       "top": null,
       "visibility": null,
       "width": null
      }
     },
     "bfb5e0054d304535870fef859fa30a13": {
      "model_module": "catboost-widget",
      "model_module_version": "^1.0.0",
      "model_name": "CatboostWidgetModel",
      "state": {
       "_dom_classes": [],
       "_model_module": "catboost-widget",
       "_model_module_version": "^1.0.0",
       "_model_name": "CatboostWidgetModel",
       "_view_count": null,
       "_view_module": "catboost-widget",
       "_view_module_version": "^1.0.0",
       "_view_name": "CatboostWidgetView",
       "data": {
        "catboost_info": {
         "content": {
          "data": {
           "iterations": [
            {
             "iteration": 0,
             "learn": [
              0.6120459742
             ],
             "passed_time": 0.09614215225,
             "remaining_time": 3845.589948,
             "test": [
              0.8738844905,
              0.612644311
             ]
            },
            {
             "iteration": 100,
             "learn": [
              0.1569659705
             ],
             "passed_time": 9.524116039,
             "remaining_time": 3762.403028,
             "test": [
              0.9604825559,
              0.1592182252
             ]
            },
            {
             "iteration": 200,
             "learn": [
              0.1484180973
             ],
             "passed_time": 18.8483036,
             "remaining_time": 3732.057886,
             "test": [
              0.9627854331,
              0.153704522
             ]
            },
            {
             "iteration": 300,
             "learn": [
              0.1437343961
             ],
             "passed_time": 28.22805521,
             "remaining_time": 3723.008518,
             "test": [
              0.9638428819,
              0.1517584965
             ]
            },
            {
             "iteration": 400,
             "learn": [
              0.1399864575
             ],
             "passed_time": 37.94630324,
             "remaining_time": 3747.221103,
             "test": [
              0.9644565471,
              0.1505271009
             ]
            },
            {
             "iteration": 500,
             "learn": [
              0.1365410518
             ],
             "passed_time": 48.46641506,
             "remaining_time": 3821.107641,
             "test": [
              0.9648113563,
              0.1499324068
             ]
            },
            {
             "iteration": 600,
             "learn": [
              0.1334140458
             ],
             "passed_time": 57.9992972,
             "remaining_time": 3802.186873,
             "test": [
              0.9650402483,
              0.1495968484
             ]
            },
            {
             "iteration": 700,
             "learn": [
              0.1304936979
             ],
             "passed_time": 67.81350812,
             "remaining_time": 3801.716199,
             "test": [
              0.9653417454,
              0.1492274371
             ]
            },
            {
             "iteration": 800,
             "learn": [
              0.1278861319
             ],
             "passed_time": 78.27020502,
             "remaining_time": 3830.354266,
             "test": [
              0.9654144146,
              0.1490987508
             ]
            },
            {
             "iteration": 900,
             "learn": [
              0.1255664371
             ],
             "passed_time": 88.09018029,
             "remaining_time": 3822.68364,
             "test": [
              0.9654110426,
              0.1490338525
             ]
            },
            {
             "iteration": 1000,
             "learn": [
              0.1231580412
             ],
             "passed_time": 97.96822501,
             "remaining_time": 3816.845961,
             "test": [
              0.9654589552,
              0.1489775416
             ]
            },
            {
             "iteration": 1100,
             "learn": [
              0.1206973923
             ],
             "passed_time": 108.4910829,
             "remaining_time": 3833.05598,
             "test": [
              0.9655445362,
              0.1487504099
             ]
            },
            {
             "iteration": 1200,
             "learn": [
              0.1185301168
             ],
             "passed_time": 118.4906332,
             "remaining_time": 3827.908475,
             "test": [
              0.9655108587,
              0.1488569533
             ]
            },
            {
             "iteration": 1300,
             "learn": [
              0.1164370566
             ],
             "passed_time": 128.3976701,
             "remaining_time": 3819.263209,
             "test": [
              0.9655421032,
              0.1487605399
             ]
            }
           ],
           "meta": {
            "iteration_count": 40000,
            "launch_mode": "Train",
            "learn_metrics": [
             {
              "best_value": "Min",
              "name": "Logloss"
             }
            ],
            "learn_sets": [
             "learn"
            ],
            "name": "experiment",
            "parameters": "",
            "test_metrics": [
             {
              "best_value": "Max",
              "name": "AUC"
             },
             {
              "best_value": "Min",
              "name": "Logloss"
             }
            ],
            "test_sets": [
             "test"
            ]
           }
          },
          "passed_iterations": 1300,
          "total_iterations": 40000
         },
         "name": "catboost_info",
         "path": "catboost_info"
        }
       },
       "layout": "IPY_MODEL_ce9aed889f814719b70f63d6fa15dc09"
      }
     },
     "ce9aed889f814719b70f63d6fa15dc09": {
      "model_module": "@jupyter-widgets/base",
      "model_module_version": "1.2.0",
      "model_name": "LayoutModel",
      "state": {
       "_model_module": "@jupyter-widgets/base",
       "_model_module_version": "1.2.0",
       "_model_name": "LayoutModel",
       "_view_count": null,
       "_view_module": "@jupyter-widgets/base",
       "_view_module_version": "1.2.0",
       "_view_name": "LayoutView",
       "align_content": null,
       "align_items": null,
       "align_self": "stretch",
       "border": null,
       "bottom": null,
       "display": null,
       "flex": null,
       "flex_flow": null,
       "grid_area": null,
       "grid_auto_columns": null,
       "grid_auto_flow": null,
       "grid_auto_rows": null,
       "grid_column": null,
       "grid_gap": null,
       "grid_row": null,
       "grid_template_areas": null,
       "grid_template_columns": null,
       "grid_template_rows": null,
       "height": "500px",
       "justify_content": null,
       "justify_items": null,
       "left": null,
       "margin": null,
       "max_height": null,
       "max_width": null,
       "min_height": null,
       "min_width": null,
       "object_fit": null,
       "object_position": null,
       "order": null,
       "overflow": null,
       "overflow_x": null,
       "overflow_y": null,
       "padding": null,
       "right": null,
       "top": null,
       "visibility": null,
       "width": null
      }
     },
     "d3908620f89d4adeb983c0197a347c7b": {
      "model_module": "catboost-widget",
      "model_module_version": "^1.0.0",
      "model_name": "CatboostWidgetModel",
      "state": {
       "_dom_classes": [],
       "_model_module": "catboost-widget",
       "_model_module_version": "^1.0.0",
       "_model_name": "CatboostWidgetModel",
       "_view_count": null,
       "_view_module": "catboost-widget",
       "_view_module_version": "^1.0.0",
       "_view_name": "CatboostWidgetView",
       "data": {
        "catboost_info": {
         "content": {
          "data": {
           "iterations": [
            {
             "iteration": 0,
             "learn": [
              0.6141222168
             ],
             "passed_time": 0.09872952063,
             "remaining_time": 3949.082096,
             "test": [
              0.8672851597,
              0.6137493298
             ]
            },
            {
             "iteration": 100,
             "learn": [
              0.1598011736
             ],
             "passed_time": 9.793112659,
             "remaining_time": 3868.667346,
             "test": [
              0.9625075417,
              0.1555328301
             ]
            },
            {
             "iteration": 200,
             "learn": [
              0.1510963376
             ],
             "passed_time": 19.85866417,
             "remaining_time": 3932.114304,
             "test": [
              0.9649247362,
              0.1497871038
             ]
            },
            {
             "iteration": 300,
             "learn": [
              0.1458734302
             ],
             "passed_time": 29.64917989,
             "remaining_time": 3910.441171,
             "test": [
              0.9659302412,
              0.1474491792
             ]
            },
            {
             "iteration": 400,
             "learn": [
              0.1420451095
             ],
             "passed_time": 39.48860684,
             "remaining_time": 3899.524545,
             "test": [
              0.9665176306,
              0.1462396766
             ]
            },
            {
             "iteration": 500,
             "learn": [
              0.1389128235
             ],
             "passed_time": 50.1636575,
             "remaining_time": 3954.918778,
             "test": [
              0.9667800466,
              0.1457175432
             ]
            },
            {
             "iteration": 600,
             "learn": [
              0.1358491206
             ],
             "passed_time": 60.22235402,
             "remaining_time": 3947.921009,
             "test": [
              0.9670542869,
              0.1451421714
             ]
            },
            {
             "iteration": 700,
             "learn": [
              0.1328770124
             ],
             "passed_time": 70.43571734,
             "remaining_time": 3948.720764,
             "test": [
              0.9672758519,
              0.1446206316
             ]
            },
            {
             "iteration": 800,
             "learn": [
              0.1302837022
             ],
             "passed_time": 81.47258766,
             "remaining_time": 3987.071116,
             "test": [
              0.9673237249,
              0.1444551318
             ]
            },
            {
             "iteration": 900,
             "learn": [
              0.1276296366
             ],
             "passed_time": 91.80648454,
             "remaining_time": 3983.953095,
             "test": [
              0.9673977862,
              0.1442845348
             ]
            },
            {
             "iteration": 1000,
             "learn": [
              0.1250925808
             ],
             "passed_time": 102.2753173,
             "remaining_time": 3984.650448,
             "test": [
              0.9675165404,
              0.1441452696
             ]
            },
            {
             "iteration": 1100,
             "learn": [
              0.1229370529
             ],
             "passed_time": 113.3841749,
             "remaining_time": 4005.931898,
             "test": [
              0.9674889435,
              0.14408783
             ]
            },
            {
             "iteration": 1200,
             "learn": [
              0.120470742
             ],
             "passed_time": 123.8039911,
             "remaining_time": 3999.559577,
             "test": [
              0.967494322,
              0.143947515
             ]
            }
           ],
           "meta": {
            "iteration_count": 40000,
            "launch_mode": "Train",
            "learn_metrics": [
             {
              "best_value": "Min",
              "name": "Logloss"
             }
            ],
            "learn_sets": [
             "learn"
            ],
            "name": "experiment",
            "parameters": "",
            "test_metrics": [
             {
              "best_value": "Max",
              "name": "AUC"
             },
             {
              "best_value": "Min",
              "name": "Logloss"
             }
            ],
            "test_sets": [
             "test"
            ]
           }
          },
          "passed_iterations": 1200,
          "total_iterations": 40000
         },
         "name": "catboost_info",
         "path": "catboost_info"
        }
       },
       "layout": "IPY_MODEL_e5d60b3435854e20b77888b7b674c024"
      }
     },
     "d6d122a75ad74c87b1b1393d2b98930b": {
      "model_module": "catboost-widget",
      "model_module_version": "^1.0.0",
      "model_name": "CatboostWidgetModel",
      "state": {
       "_dom_classes": [],
       "_model_module": "catboost-widget",
       "_model_module_version": "^1.0.0",
       "_model_name": "CatboostWidgetModel",
       "_view_count": null,
       "_view_module": "catboost-widget",
       "_view_module_version": "^1.0.0",
       "_view_name": "CatboostWidgetView",
       "data": {
        "catboost_info": {
         "content": {
          "data": {
           "iterations": [
            {
             "iteration": 0,
             "learn": [
              0.6136877784
             ],
             "passed_time": 0.08499202285,
             "remaining_time": 3399.595922,
             "test": [
              0.8621958632,
              0.614276997
             ]
            },
            {
             "iteration": 100,
             "learn": [
              0.1584269915
             ],
             "passed_time": 8.166806172,
             "remaining_time": 3226.211876,
             "test": [
              0.960492401,
              0.1587538457
             ]
            },
            {
             "iteration": 200,
             "learn": [
              0.1500581076
             ],
             "passed_time": 15.52251549,
             "remaining_time": 3073.535294,
             "test": [
              0.9626410094,
              0.1530492608
             ]
            },
            {
             "iteration": 300,
             "learn": [
              0.1448502867
             ],
             "passed_time": 23.15618099,
             "remaining_time": 3054.077173,
             "test": [
              0.9639222584,
              0.150306794
             ]
            },
            {
             "iteration": 400,
             "learn": [
              0.1407499118
             ],
             "passed_time": 30.81229882,
             "remaining_time": 3042.733718,
             "test": [
              0.9644590529,
              0.1491332442
             ]
            },
            {
             "iteration": 500,
             "learn": [
              0.1372425448
             ],
             "passed_time": 39.3767241,
             "remaining_time": 3104.473503,
             "test": [
              0.9646883605,
              0.1485398296
             ]
            },
            {
             "iteration": 600,
             "learn": [
              0.1343887495
             ],
             "passed_time": 47.29397747,
             "remaining_time": 3100.391711,
             "test": [
              0.9649077622,
              0.1481171805
             ]
            },
            {
             "iteration": 700,
             "learn": [
              0.1314976085
             ],
             "passed_time": 55.30417756,
             "remaining_time": 3100.426354,
             "test": [
              0.9649662366,
              0.1479542164
             ]
            },
            {
             "iteration": 800,
             "learn": [
              0.1287418145
             ],
             "passed_time": 63.23341871,
             "remaining_time": 3094.490362,
             "test": [
              0.9651320102,
              0.147505294
             ]
            },
            {
             "iteration": 900,
             "learn": [
              0.1261285958
             ],
             "passed_time": 71.9514459,
             "remaining_time": 3122.34138,
             "test": [
              0.9651149098,
              0.1473979389
             ]
            },
            {
             "iteration": 1000,
             "learn": [
              0.1237491115
             ],
             "passed_time": 79.90205931,
             "remaining_time": 3112.987424,
             "test": [
              0.9652055782,
              0.1472479424
             ]
            },
            {
             "iteration": 1100,
             "learn": [
              0.1214381535
             ],
             "passed_time": 88.22450348,
             "remaining_time": 3117.025396,
             "test": [
              0.9653125357,
              0.1471318207
             ]
            },
            {
             "iteration": 1200,
             "learn": [
              0.1192772236
             ],
             "passed_time": 96.15861003,
             "remaining_time": 3106.459542,
             "test": [
              0.9653160796,
              0.1470897458
             ]
            },
            {
             "iteration": 1300,
             "learn": [
              0.1171023767
             ],
             "passed_time": 104.9036096,
             "remaining_time": 3120.418747,
             "test": [
              0.9652589716,
              0.1471288204
             ]
            }
           ],
           "meta": {
            "iteration_count": 40000,
            "launch_mode": "Train",
            "learn_metrics": [
             {
              "best_value": "Min",
              "name": "Logloss"
             }
            ],
            "learn_sets": [
             "learn"
            ],
            "name": "experiment",
            "parameters": "",
            "test_metrics": [
             {
              "best_value": "Max",
              "name": "AUC"
             },
             {
              "best_value": "Min",
              "name": "Logloss"
             }
            ],
            "test_sets": [
             "test"
            ]
           }
          },
          "passed_iterations": 1300,
          "total_iterations": 40000
         },
         "name": "catboost_info",
         "path": "catboost_info"
        }
       },
       "layout": "IPY_MODEL_1e4dda78d90f4e1aa877f31625f6f8a8"
      }
     },
     "e5d60b3435854e20b77888b7b674c024": {
      "model_module": "@jupyter-widgets/base",
      "model_module_version": "1.2.0",
      "model_name": "LayoutModel",
      "state": {
       "_model_module": "@jupyter-widgets/base",
       "_model_module_version": "1.2.0",
       "_model_name": "LayoutModel",
       "_view_count": null,
       "_view_module": "@jupyter-widgets/base",
       "_view_module_version": "1.2.0",
       "_view_name": "LayoutView",
       "align_content": null,
       "align_items": null,
       "align_self": "stretch",
       "border": null,
       "bottom": null,
       "display": null,
       "flex": null,
       "flex_flow": null,
       "grid_area": null,
       "grid_auto_columns": null,
       "grid_auto_flow": null,
       "grid_auto_rows": null,
       "grid_column": null,
       "grid_gap": null,
       "grid_row": null,
       "grid_template_areas": null,
       "grid_template_columns": null,
       "grid_template_rows": null,
       "height": "500px",
       "justify_content": null,
       "justify_items": null,
       "left": null,
       "margin": null,
       "max_height": null,
       "max_width": null,
       "min_height": null,
       "min_width": null,
       "object_fit": null,
       "object_position": null,
       "order": null,
       "overflow": null,
       "overflow_x": null,
       "overflow_y": null,
       "padding": null,
       "right": null,
       "top": null,
       "visibility": null,
       "width": null
      }
     }
    },
    "version_major": 2,
    "version_minor": 0
   }
  }
 },
 "nbformat": 4,
 "nbformat_minor": 5
}
